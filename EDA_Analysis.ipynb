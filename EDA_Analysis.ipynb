        "#Mean, median and mode of Fare column"
